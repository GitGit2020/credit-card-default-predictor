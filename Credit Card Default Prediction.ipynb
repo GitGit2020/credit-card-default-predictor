{
 "cells": [
  {
   "cell_type": "code",
   "execution_count": 4,
   "metadata": {},
   "outputs": [],
   "source": [
    "import pandas as pd\n",
    "import numpy as np\n",
    "import matplotlib.pyplot as plt\n",
    "import seaborn as sns\n",
    "\n",
    "from sklearn.preprocessing import OneHotEncoder, LabelEncoder\n",
    "\n",
    "from sklearn.model_selection import train_test_split\n",
    "from sklearn.impute import SimpleImputer\n",
    "from sklearn.ensemble import RandomForestClassifier, GradientBoostingClassifier\n",
    "from catboost import CatBoostClassifier\n",
    "from sklearn.linear_model import LogisticRegression\n",
    "from sklearn import metrics\n",
    "import xgboost as xgb\n",
    "from xgboost import XGBClassifier\n",
    "import lightgbm as lgb\n",
    "\n",
    "\n",
    "pd.set_option('display.max_rows', 100)\n",
    "pd.set_option('max_rows', 100)"
   ]
  },
  {
   "cell_type": "code",
   "execution_count": 5,
   "metadata": {},
   "outputs": [],
   "source": [
    "train = pd.read_csv(\"dataset/train.csv\")\n",
    "test = pd.read_csv(\"dataset/test.csv\")\n",
    "submission = pd.read_csv(\"dataset/sample_submission.csv\")"
   ]
  },
  {
   "cell_type": "code",
   "execution_count": 6,
   "metadata": {},
   "outputs": [
    {
     "data": {
      "text/html": [
       "<div>\n",
       "<style scoped>\n",
       "    .dataframe tbody tr th:only-of-type {\n",
       "        vertical-align: middle;\n",
       "    }\n",
       "\n",
       "    .dataframe tbody tr th {\n",
       "        vertical-align: top;\n",
       "    }\n",
       "\n",
       "    .dataframe thead th {\n",
       "        text-align: right;\n",
       "    }\n",
       "</style>\n",
       "<table border=\"1\" class=\"dataframe\">\n",
       "  <thead>\n",
       "    <tr style=\"text-align: right;\">\n",
       "      <th></th>\n",
       "      <th>customer_id</th>\n",
       "      <th>name</th>\n",
       "      <th>age</th>\n",
       "      <th>gender</th>\n",
       "      <th>owns_car</th>\n",
       "      <th>owns_house</th>\n",
       "      <th>no_of_children</th>\n",
       "      <th>net_yearly_income</th>\n",
       "      <th>no_of_days_employed</th>\n",
       "      <th>occupation_type</th>\n",
       "      <th>total_family_members</th>\n",
       "      <th>migrant_worker</th>\n",
       "      <th>yearly_debt_payments</th>\n",
       "      <th>credit_limit</th>\n",
       "      <th>credit_limit_used(%)</th>\n",
       "      <th>credit_score</th>\n",
       "      <th>prev_defaults</th>\n",
       "      <th>default_in_last_6months</th>\n",
       "      <th>credit_card_default</th>\n",
       "    </tr>\n",
       "  </thead>\n",
       "  <tbody>\n",
       "    <tr>\n",
       "      <th>0</th>\n",
       "      <td>CST_115179</td>\n",
       "      <td>ita Bose</td>\n",
       "      <td>46</td>\n",
       "      <td>F</td>\n",
       "      <td>N</td>\n",
       "      <td>Y</td>\n",
       "      <td>0.0</td>\n",
       "      <td>107934.04</td>\n",
       "      <td>612.0</td>\n",
       "      <td>Unknown</td>\n",
       "      <td>1.0</td>\n",
       "      <td>1.0</td>\n",
       "      <td>33070.28</td>\n",
       "      <td>18690.93</td>\n",
       "      <td>73</td>\n",
       "      <td>544.0</td>\n",
       "      <td>2</td>\n",
       "      <td>1</td>\n",
       "      <td>1</td>\n",
       "    </tr>\n",
       "    <tr>\n",
       "      <th>1</th>\n",
       "      <td>CST_121920</td>\n",
       "      <td>Alper Jonathan</td>\n",
       "      <td>29</td>\n",
       "      <td>M</td>\n",
       "      <td>N</td>\n",
       "      <td>Y</td>\n",
       "      <td>0.0</td>\n",
       "      <td>109862.62</td>\n",
       "      <td>2771.0</td>\n",
       "      <td>Laborers</td>\n",
       "      <td>2.0</td>\n",
       "      <td>0.0</td>\n",
       "      <td>15329.53</td>\n",
       "      <td>37745.19</td>\n",
       "      <td>52</td>\n",
       "      <td>857.0</td>\n",
       "      <td>0</td>\n",
       "      <td>0</td>\n",
       "      <td>0</td>\n",
       "    </tr>\n",
       "    <tr>\n",
       "      <th>2</th>\n",
       "      <td>CST_109330</td>\n",
       "      <td>Umesh Desai</td>\n",
       "      <td>37</td>\n",
       "      <td>M</td>\n",
       "      <td>N</td>\n",
       "      <td>Y</td>\n",
       "      <td>0.0</td>\n",
       "      <td>230153.17</td>\n",
       "      <td>204.0</td>\n",
       "      <td>Laborers</td>\n",
       "      <td>2.0</td>\n",
       "      <td>0.0</td>\n",
       "      <td>48416.60</td>\n",
       "      <td>41598.36</td>\n",
       "      <td>43</td>\n",
       "      <td>650.0</td>\n",
       "      <td>0</td>\n",
       "      <td>0</td>\n",
       "      <td>0</td>\n",
       "    </tr>\n",
       "    <tr>\n",
       "      <th>3</th>\n",
       "      <td>CST_128288</td>\n",
       "      <td>Rie</td>\n",
       "      <td>39</td>\n",
       "      <td>F</td>\n",
       "      <td>N</td>\n",
       "      <td>Y</td>\n",
       "      <td>0.0</td>\n",
       "      <td>122325.82</td>\n",
       "      <td>11941.0</td>\n",
       "      <td>Core staff</td>\n",
       "      <td>2.0</td>\n",
       "      <td>0.0</td>\n",
       "      <td>22574.36</td>\n",
       "      <td>32627.76</td>\n",
       "      <td>20</td>\n",
       "      <td>754.0</td>\n",
       "      <td>0</td>\n",
       "      <td>0</td>\n",
       "      <td>0</td>\n",
       "    </tr>\n",
       "    <tr>\n",
       "      <th>4</th>\n",
       "      <td>CST_151355</td>\n",
       "      <td>McCool</td>\n",
       "      <td>46</td>\n",
       "      <td>M</td>\n",
       "      <td>Y</td>\n",
       "      <td>Y</td>\n",
       "      <td>0.0</td>\n",
       "      <td>387286.00</td>\n",
       "      <td>1459.0</td>\n",
       "      <td>Core staff</td>\n",
       "      <td>1.0</td>\n",
       "      <td>0.0</td>\n",
       "      <td>38282.95</td>\n",
       "      <td>52950.64</td>\n",
       "      <td>75</td>\n",
       "      <td>927.0</td>\n",
       "      <td>0</td>\n",
       "      <td>0</td>\n",
       "      <td>0</td>\n",
       "    </tr>\n",
       "    <tr>\n",
       "      <th>5</th>\n",
       "      <td>CST_123268</td>\n",
       "      <td>Sarah Marsh</td>\n",
       "      <td>46</td>\n",
       "      <td>F</td>\n",
       "      <td>Y</td>\n",
       "      <td>N</td>\n",
       "      <td>0.0</td>\n",
       "      <td>252765.91</td>\n",
       "      <td>2898.0</td>\n",
       "      <td>Accountants</td>\n",
       "      <td>2.0</td>\n",
       "      <td>1.0</td>\n",
       "      <td>37046.86</td>\n",
       "      <td>40245.64</td>\n",
       "      <td>19</td>\n",
       "      <td>937.0</td>\n",
       "      <td>0</td>\n",
       "      <td>0</td>\n",
       "      <td>0</td>\n",
       "    </tr>\n",
       "    <tr>\n",
       "      <th>6</th>\n",
       "      <td>CST_127502</td>\n",
       "      <td>Mason</td>\n",
       "      <td>38</td>\n",
       "      <td>M</td>\n",
       "      <td>N</td>\n",
       "      <td>Y</td>\n",
       "      <td>1.0</td>\n",
       "      <td>262389.20</td>\n",
       "      <td>5541.0</td>\n",
       "      <td>High skill tech staff</td>\n",
       "      <td>3.0</td>\n",
       "      <td>0.0</td>\n",
       "      <td>50839.39</td>\n",
       "      <td>41311.08</td>\n",
       "      <td>42</td>\n",
       "      <td>733.0</td>\n",
       "      <td>0</td>\n",
       "      <td>0</td>\n",
       "      <td>0</td>\n",
       "    </tr>\n",
       "    <tr>\n",
       "      <th>7</th>\n",
       "      <td>CST_151722</td>\n",
       "      <td>Saba</td>\n",
       "      <td>46</td>\n",
       "      <td>F</td>\n",
       "      <td>Y</td>\n",
       "      <td>Y</td>\n",
       "      <td>1.0</td>\n",
       "      <td>241211.39</td>\n",
       "      <td>1448.0</td>\n",
       "      <td>Core staff</td>\n",
       "      <td>3.0</td>\n",
       "      <td>0.0</td>\n",
       "      <td>30008.46</td>\n",
       "      <td>32209.22</td>\n",
       "      <td>91</td>\n",
       "      <td>906.0</td>\n",
       "      <td>0</td>\n",
       "      <td>0</td>\n",
       "      <td>0</td>\n",
       "    </tr>\n",
       "    <tr>\n",
       "      <th>8</th>\n",
       "      <td>CST_133768</td>\n",
       "      <td>Ashutosh</td>\n",
       "      <td>40</td>\n",
       "      <td>F</td>\n",
       "      <td>NaN</td>\n",
       "      <td>Y</td>\n",
       "      <td>0.0</td>\n",
       "      <td>210091.43</td>\n",
       "      <td>11551.0</td>\n",
       "      <td>Laborers</td>\n",
       "      <td>2.0</td>\n",
       "      <td>0.0</td>\n",
       "      <td>21521.89</td>\n",
       "      <td>65037.74</td>\n",
       "      <td>14</td>\n",
       "      <td>783.0</td>\n",
       "      <td>0</td>\n",
       "      <td>0</td>\n",
       "      <td>0</td>\n",
       "    </tr>\n",
       "    <tr>\n",
       "      <th>9</th>\n",
       "      <td>CST_111670</td>\n",
       "      <td>David Milliken</td>\n",
       "      <td>39</td>\n",
       "      <td>F</td>\n",
       "      <td>Y</td>\n",
       "      <td>Y</td>\n",
       "      <td>2.0</td>\n",
       "      <td>207109.13</td>\n",
       "      <td>2791.0</td>\n",
       "      <td>High skill tech staff</td>\n",
       "      <td>4.0</td>\n",
       "      <td>0.0</td>\n",
       "      <td>9509.10</td>\n",
       "      <td>28425.52</td>\n",
       "      <td>14</td>\n",
       "      <td>666.0</td>\n",
       "      <td>0</td>\n",
       "      <td>0</td>\n",
       "      <td>0</td>\n",
       "    </tr>\n",
       "  </tbody>\n",
       "</table>\n",
       "</div>"
      ],
      "text/plain": [
       "  customer_id            name  age gender owns_car owns_house  no_of_children  \\\n",
       "0  CST_115179        ita Bose   46      F        N          Y             0.0   \n",
       "1  CST_121920  Alper Jonathan   29      M        N          Y             0.0   \n",
       "2  CST_109330     Umesh Desai   37      M        N          Y             0.0   \n",
       "3  CST_128288             Rie   39      F        N          Y             0.0   \n",
       "4  CST_151355          McCool   46      M        Y          Y             0.0   \n",
       "5  CST_123268     Sarah Marsh   46      F        Y          N             0.0   \n",
       "6  CST_127502           Mason   38      M        N          Y             1.0   \n",
       "7  CST_151722            Saba   46      F        Y          Y             1.0   \n",
       "8  CST_133768        Ashutosh   40      F      NaN          Y             0.0   \n",
       "9  CST_111670  David Milliken   39      F        Y          Y             2.0   \n",
       "\n",
       "   net_yearly_income  no_of_days_employed        occupation_type  \\\n",
       "0          107934.04                612.0                Unknown   \n",
       "1          109862.62               2771.0               Laborers   \n",
       "2          230153.17                204.0               Laborers   \n",
       "3          122325.82              11941.0             Core staff   \n",
       "4          387286.00               1459.0             Core staff   \n",
       "5          252765.91               2898.0            Accountants   \n",
       "6          262389.20               5541.0  High skill tech staff   \n",
       "7          241211.39               1448.0             Core staff   \n",
       "8          210091.43              11551.0               Laborers   \n",
       "9          207109.13               2791.0  High skill tech staff   \n",
       "\n",
       "   total_family_members  migrant_worker  yearly_debt_payments  credit_limit  \\\n",
       "0                   1.0             1.0              33070.28      18690.93   \n",
       "1                   2.0             0.0              15329.53      37745.19   \n",
       "2                   2.0             0.0              48416.60      41598.36   \n",
       "3                   2.0             0.0              22574.36      32627.76   \n",
       "4                   1.0             0.0              38282.95      52950.64   \n",
       "5                   2.0             1.0              37046.86      40245.64   \n",
       "6                   3.0             0.0              50839.39      41311.08   \n",
       "7                   3.0             0.0              30008.46      32209.22   \n",
       "8                   2.0             0.0              21521.89      65037.74   \n",
       "9                   4.0             0.0               9509.10      28425.52   \n",
       "\n",
       "   credit_limit_used(%)  credit_score  prev_defaults  default_in_last_6months  \\\n",
       "0                    73         544.0              2                        1   \n",
       "1                    52         857.0              0                        0   \n",
       "2                    43         650.0              0                        0   \n",
       "3                    20         754.0              0                        0   \n",
       "4                    75         927.0              0                        0   \n",
       "5                    19         937.0              0                        0   \n",
       "6                    42         733.0              0                        0   \n",
       "7                    91         906.0              0                        0   \n",
       "8                    14         783.0              0                        0   \n",
       "9                    14         666.0              0                        0   \n",
       "\n",
       "   credit_card_default  \n",
       "0                    1  \n",
       "1                    0  \n",
       "2                    0  \n",
       "3                    0  \n",
       "4                    0  \n",
       "5                    0  \n",
       "6                    0  \n",
       "7                    0  \n",
       "8                    0  \n",
       "9                    0  "
      ]
     },
     "execution_count": 6,
     "metadata": {},
     "output_type": "execute_result"
    }
   ],
   "source": [
    "train.head(10)"
   ]
  },
  {
   "cell_type": "code",
   "execution_count": 7,
   "metadata": {},
   "outputs": [
    {
     "data": {
      "text/html": [
       "<div>\n",
       "<style scoped>\n",
       "    .dataframe tbody tr th:only-of-type {\n",
       "        vertical-align: middle;\n",
       "    }\n",
       "\n",
       "    .dataframe tbody tr th {\n",
       "        vertical-align: top;\n",
       "    }\n",
       "\n",
       "    .dataframe thead th {\n",
       "        text-align: right;\n",
       "    }\n",
       "</style>\n",
       "<table border=\"1\" class=\"dataframe\">\n",
       "  <thead>\n",
       "    <tr style=\"text-align: right;\">\n",
       "      <th></th>\n",
       "      <th>customer_id</th>\n",
       "      <th>name</th>\n",
       "      <th>age</th>\n",
       "      <th>gender</th>\n",
       "      <th>owns_car</th>\n",
       "      <th>owns_house</th>\n",
       "      <th>no_of_children</th>\n",
       "      <th>net_yearly_income</th>\n",
       "      <th>no_of_days_employed</th>\n",
       "      <th>occupation_type</th>\n",
       "      <th>total_family_members</th>\n",
       "      <th>migrant_worker</th>\n",
       "      <th>yearly_debt_payments</th>\n",
       "      <th>credit_limit</th>\n",
       "      <th>credit_limit_used(%)</th>\n",
       "      <th>credit_score</th>\n",
       "      <th>prev_defaults</th>\n",
       "      <th>default_in_last_6months</th>\n",
       "    </tr>\n",
       "  </thead>\n",
       "  <tbody>\n",
       "    <tr>\n",
       "      <th>0</th>\n",
       "      <td>CST_142525</td>\n",
       "      <td>Siva</td>\n",
       "      <td>52</td>\n",
       "      <td>F</td>\n",
       "      <td>Y</td>\n",
       "      <td>N</td>\n",
       "      <td>0.0</td>\n",
       "      <td>232640.53</td>\n",
       "      <td>998.0</td>\n",
       "      <td>Unknown</td>\n",
       "      <td>2.0</td>\n",
       "      <td>0.0</td>\n",
       "      <td>14406.73</td>\n",
       "      <td>26524.40</td>\n",
       "      <td>4</td>\n",
       "      <td>779.0</td>\n",
       "      <td>0</td>\n",
       "      <td>0</td>\n",
       "    </tr>\n",
       "    <tr>\n",
       "      <th>1</th>\n",
       "      <td>CST_129215</td>\n",
       "      <td>Scott</td>\n",
       "      <td>48</td>\n",
       "      <td>F</td>\n",
       "      <td>N</td>\n",
       "      <td>N</td>\n",
       "      <td>1.0</td>\n",
       "      <td>284396.79</td>\n",
       "      <td>1338.0</td>\n",
       "      <td>Unknown</td>\n",
       "      <td>3.0</td>\n",
       "      <td>0.0</td>\n",
       "      <td>57479.99</td>\n",
       "      <td>68998.72</td>\n",
       "      <td>70</td>\n",
       "      <td>806.0</td>\n",
       "      <td>0</td>\n",
       "      <td>0</td>\n",
       "    </tr>\n",
       "    <tr>\n",
       "      <th>2</th>\n",
       "      <td>CST_138443</td>\n",
       "      <td>Victoria</td>\n",
       "      <td>50</td>\n",
       "      <td>F</td>\n",
       "      <td>N</td>\n",
       "      <td>N</td>\n",
       "      <td>1.0</td>\n",
       "      <td>149419.28</td>\n",
       "      <td>1210.0</td>\n",
       "      <td>Unknown</td>\n",
       "      <td>3.0</td>\n",
       "      <td>0.0</td>\n",
       "      <td>21611.01</td>\n",
       "      <td>25187.80</td>\n",
       "      <td>71</td>\n",
       "      <td>528.0</td>\n",
       "      <td>2</td>\n",
       "      <td>0</td>\n",
       "    </tr>\n",
       "    <tr>\n",
       "      <th>3</th>\n",
       "      <td>CST_123812</td>\n",
       "      <td>John McCrank</td>\n",
       "      <td>30</td>\n",
       "      <td>F</td>\n",
       "      <td>N</td>\n",
       "      <td>N</td>\n",
       "      <td>1.0</td>\n",
       "      <td>160437.54</td>\n",
       "      <td>503.0</td>\n",
       "      <td>Laborers</td>\n",
       "      <td>2.0</td>\n",
       "      <td>1.0</td>\n",
       "      <td>28990.76</td>\n",
       "      <td>29179.39</td>\n",
       "      <td>9</td>\n",
       "      <td>815.0</td>\n",
       "      <td>0</td>\n",
       "      <td>0</td>\n",
       "    </tr>\n",
       "    <tr>\n",
       "      <th>4</th>\n",
       "      <td>CST_144450</td>\n",
       "      <td>Martinne</td>\n",
       "      <td>52</td>\n",
       "      <td>M</td>\n",
       "      <td>N</td>\n",
       "      <td>Y</td>\n",
       "      <td>0.0</td>\n",
       "      <td>233480.37</td>\n",
       "      <td>157.0</td>\n",
       "      <td>Laborers</td>\n",
       "      <td>2.0</td>\n",
       "      <td>1.0</td>\n",
       "      <td>54213.72</td>\n",
       "      <td>82331.82</td>\n",
       "      <td>82</td>\n",
       "      <td>613.0</td>\n",
       "      <td>1</td>\n",
       "      <td>1</td>\n",
       "    </tr>\n",
       "    <tr>\n",
       "      <th>5</th>\n",
       "      <td>CST_107341</td>\n",
       "      <td>asil Katz</td>\n",
       "      <td>29</td>\n",
       "      <td>F</td>\n",
       "      <td>N</td>\n",
       "      <td>Y</td>\n",
       "      <td>0.0</td>\n",
       "      <td>145295.56</td>\n",
       "      <td>4794.0</td>\n",
       "      <td>Sales staff</td>\n",
       "      <td>2.0</td>\n",
       "      <td>0.0</td>\n",
       "      <td>40487.68</td>\n",
       "      <td>20346.31</td>\n",
       "      <td>71</td>\n",
       "      <td>720.0</td>\n",
       "      <td>0</td>\n",
       "      <td>0</td>\n",
       "    </tr>\n",
       "    <tr>\n",
       "      <th>6</th>\n",
       "      <td>CST_147879</td>\n",
       "      <td>Baker</td>\n",
       "      <td>37</td>\n",
       "      <td>F</td>\n",
       "      <td>N</td>\n",
       "      <td>Y</td>\n",
       "      <td>0.0</td>\n",
       "      <td>144028.05</td>\n",
       "      <td>1069.0</td>\n",
       "      <td>Laborers</td>\n",
       "      <td>1.0</td>\n",
       "      <td>0.0</td>\n",
       "      <td>24609.26</td>\n",
       "      <td>31383.40</td>\n",
       "      <td>29</td>\n",
       "      <td>944.0</td>\n",
       "      <td>0</td>\n",
       "      <td>0</td>\n",
       "    </tr>\n",
       "    <tr>\n",
       "      <th>7</th>\n",
       "      <td>CST_156027</td>\n",
       "      <td>Saphir</td>\n",
       "      <td>29</td>\n",
       "      <td>M</td>\n",
       "      <td>N</td>\n",
       "      <td>Y</td>\n",
       "      <td>0.0</td>\n",
       "      <td>126638.58</td>\n",
       "      <td>319.0</td>\n",
       "      <td>Unknown</td>\n",
       "      <td>1.0</td>\n",
       "      <td>0.0</td>\n",
       "      <td>40468.80</td>\n",
       "      <td>25486.65</td>\n",
       "      <td>5</td>\n",
       "      <td>939.0</td>\n",
       "      <td>0</td>\n",
       "      <td>0</td>\n",
       "    </tr>\n",
       "    <tr>\n",
       "      <th>8</th>\n",
       "      <td>CST_109067</td>\n",
       "      <td>Sinead Cruise</td>\n",
       "      <td>41</td>\n",
       "      <td>F</td>\n",
       "      <td>N</td>\n",
       "      <td>Y</td>\n",
       "      <td>0.0</td>\n",
       "      <td>81034.46</td>\n",
       "      <td>3012.0</td>\n",
       "      <td>Medicine staff</td>\n",
       "      <td>2.0</td>\n",
       "      <td>0.0</td>\n",
       "      <td>19918.25</td>\n",
       "      <td>13458.33</td>\n",
       "      <td>12</td>\n",
       "      <td>763.0</td>\n",
       "      <td>0</td>\n",
       "      <td>0</td>\n",
       "    </tr>\n",
       "    <tr>\n",
       "      <th>9</th>\n",
       "      <td>CST_114556</td>\n",
       "      <td>Conor Humphries</td>\n",
       "      <td>41</td>\n",
       "      <td>M</td>\n",
       "      <td>Y</td>\n",
       "      <td>Y</td>\n",
       "      <td>1.0</td>\n",
       "      <td>102395.81</td>\n",
       "      <td>450.0</td>\n",
       "      <td>Unknown</td>\n",
       "      <td>3.0</td>\n",
       "      <td>1.0</td>\n",
       "      <td>26494.71</td>\n",
       "      <td>24354.25</td>\n",
       "      <td>90</td>\n",
       "      <td>897.0</td>\n",
       "      <td>0</td>\n",
       "      <td>0</td>\n",
       "    </tr>\n",
       "  </tbody>\n",
       "</table>\n",
       "</div>"
      ],
      "text/plain": [
       "  customer_id             name  age gender owns_car owns_house  \\\n",
       "0  CST_142525             Siva   52      F        Y          N   \n",
       "1  CST_129215            Scott   48      F        N          N   \n",
       "2  CST_138443         Victoria   50      F        N          N   \n",
       "3  CST_123812     John McCrank   30      F        N          N   \n",
       "4  CST_144450         Martinne   52      M        N          Y   \n",
       "5  CST_107341        asil Katz   29      F        N          Y   \n",
       "6  CST_147879            Baker   37      F        N          Y   \n",
       "7  CST_156027           Saphir   29      M        N          Y   \n",
       "8  CST_109067    Sinead Cruise   41      F        N          Y   \n",
       "9  CST_114556  Conor Humphries   41      M        Y          Y   \n",
       "\n",
       "   no_of_children  net_yearly_income  no_of_days_employed occupation_type  \\\n",
       "0             0.0          232640.53                998.0         Unknown   \n",
       "1             1.0          284396.79               1338.0         Unknown   \n",
       "2             1.0          149419.28               1210.0         Unknown   \n",
       "3             1.0          160437.54                503.0        Laborers   \n",
       "4             0.0          233480.37                157.0        Laborers   \n",
       "5             0.0          145295.56               4794.0     Sales staff   \n",
       "6             0.0          144028.05               1069.0        Laborers   \n",
       "7             0.0          126638.58                319.0         Unknown   \n",
       "8             0.0           81034.46               3012.0  Medicine staff   \n",
       "9             1.0          102395.81                450.0         Unknown   \n",
       "\n",
       "   total_family_members  migrant_worker  yearly_debt_payments  credit_limit  \\\n",
       "0                   2.0             0.0              14406.73      26524.40   \n",
       "1                   3.0             0.0              57479.99      68998.72   \n",
       "2                   3.0             0.0              21611.01      25187.80   \n",
       "3                   2.0             1.0              28990.76      29179.39   \n",
       "4                   2.0             1.0              54213.72      82331.82   \n",
       "5                   2.0             0.0              40487.68      20346.31   \n",
       "6                   1.0             0.0              24609.26      31383.40   \n",
       "7                   1.0             0.0              40468.80      25486.65   \n",
       "8                   2.0             0.0              19918.25      13458.33   \n",
       "9                   3.0             1.0              26494.71      24354.25   \n",
       "\n",
       "   credit_limit_used(%)  credit_score  prev_defaults  default_in_last_6months  \n",
       "0                     4         779.0              0                        0  \n",
       "1                    70         806.0              0                        0  \n",
       "2                    71         528.0              2                        0  \n",
       "3                     9         815.0              0                        0  \n",
       "4                    82         613.0              1                        1  \n",
       "5                    71         720.0              0                        0  \n",
       "6                    29         944.0              0                        0  \n",
       "7                     5         939.0              0                        0  \n",
       "8                    12         763.0              0                        0  \n",
       "9                    90         897.0              0                        0  "
      ]
     },
     "execution_count": 7,
     "metadata": {},
     "output_type": "execute_result"
    }
   ],
   "source": [
    "test.head(10)"
   ]
  },
  {
   "cell_type": "code",
   "execution_count": 8,
   "metadata": {},
   "outputs": [
    {
     "data": {
      "text/plain": [
       "((45528, 19), (11383, 18))"
      ]
     },
     "execution_count": 8,
     "metadata": {},
     "output_type": "execute_result"
    }
   ],
   "source": [
    "train.shape, test.shape"
   ]
  },
  {
   "cell_type": "code",
   "execution_count": 9,
   "metadata": {},
   "outputs": [
    {
     "name": "stdout",
     "output_type": "stream",
     "text": [
      "<class 'pandas.core.frame.DataFrame'>\n",
      "RangeIndex: 45528 entries, 0 to 45527\n",
      "Data columns (total 19 columns):\n",
      " #   Column                   Non-Null Count  Dtype  \n",
      "---  ------                   --------------  -----  \n",
      " 0   customer_id              45528 non-null  object \n",
      " 1   name                     45528 non-null  object \n",
      " 2   age                      45528 non-null  int64  \n",
      " 3   gender                   45528 non-null  object \n",
      " 4   owns_car                 44981 non-null  object \n",
      " 5   owns_house               45528 non-null  object \n",
      " 6   no_of_children           44754 non-null  float64\n",
      " 7   net_yearly_income        45528 non-null  float64\n",
      " 8   no_of_days_employed      45065 non-null  float64\n",
      " 9   occupation_type          45528 non-null  object \n",
      " 10  total_family_members     45445 non-null  float64\n",
      " 11  migrant_worker           45441 non-null  float64\n",
      " 12  yearly_debt_payments     45433 non-null  float64\n",
      " 13  credit_limit             45528 non-null  float64\n",
      " 14  credit_limit_used(%)     45528 non-null  int64  \n",
      " 15  credit_score             45520 non-null  float64\n",
      " 16  prev_defaults            45528 non-null  int64  \n",
      " 17  default_in_last_6months  45528 non-null  int64  \n",
      " 18  credit_card_default      45528 non-null  int64  \n",
      "dtypes: float64(8), int64(5), object(6)\n",
      "memory usage: 6.6+ MB\n"
     ]
    }
   ],
   "source": [
    "train.info()"
   ]
  },
  {
   "cell_type": "code",
   "execution_count": 10,
   "metadata": {},
   "outputs": [
    {
     "data": {
      "text/plain": [
       "customer_id                0.000000\n",
       "name                       0.000000\n",
       "age                        0.000000\n",
       "gender                     0.000000\n",
       "owns_car                   1.201458\n",
       "owns_house                 0.000000\n",
       "no_of_children             1.700053\n",
       "net_yearly_income          0.000000\n",
       "no_of_days_employed        1.016957\n",
       "occupation_type            0.000000\n",
       "total_family_members       0.182305\n",
       "migrant_worker             0.191091\n",
       "yearly_debt_payments       0.208663\n",
       "credit_limit               0.000000\n",
       "credit_limit_used(%)       0.000000\n",
       "credit_score               0.017572\n",
       "prev_defaults              0.000000\n",
       "default_in_last_6months    0.000000\n",
       "credit_card_default        0.000000\n",
       "dtype: float64"
      ]
     },
     "execution_count": 10,
     "metadata": {},
     "output_type": "execute_result"
    }
   ],
   "source": [
    "train.isnull().sum()/train.shape[0] * 100"
   ]
  },
  {
   "cell_type": "code",
   "execution_count": 11,
   "metadata": {},
   "outputs": [
    {
     "data": {
      "text/html": [
       "<div>\n",
       "<style scoped>\n",
       "    .dataframe tbody tr th:only-of-type {\n",
       "        vertical-align: middle;\n",
       "    }\n",
       "\n",
       "    .dataframe tbody tr th {\n",
       "        vertical-align: top;\n",
       "    }\n",
       "\n",
       "    .dataframe thead th {\n",
       "        text-align: right;\n",
       "    }\n",
       "</style>\n",
       "<table border=\"1\" class=\"dataframe\">\n",
       "  <thead>\n",
       "    <tr style=\"text-align: right;\">\n",
       "      <th></th>\n",
       "      <th>age</th>\n",
       "      <th>no_of_children</th>\n",
       "      <th>net_yearly_income</th>\n",
       "      <th>no_of_days_employed</th>\n",
       "      <th>total_family_members</th>\n",
       "      <th>migrant_worker</th>\n",
       "      <th>yearly_debt_payments</th>\n",
       "      <th>credit_limit</th>\n",
       "      <th>credit_limit_used(%)</th>\n",
       "      <th>credit_score</th>\n",
       "      <th>prev_defaults</th>\n",
       "      <th>default_in_last_6months</th>\n",
       "      <th>credit_card_default</th>\n",
       "    </tr>\n",
       "  </thead>\n",
       "  <tbody>\n",
       "    <tr>\n",
       "      <th>count</th>\n",
       "      <td>45528.000000</td>\n",
       "      <td>44754.000000</td>\n",
       "      <td>4.552800e+04</td>\n",
       "      <td>45065.000000</td>\n",
       "      <td>45445.000000</td>\n",
       "      <td>45441.000000</td>\n",
       "      <td>45433.000000</td>\n",
       "      <td>4.552800e+04</td>\n",
       "      <td>45528.00000</td>\n",
       "      <td>45520.000000</td>\n",
       "      <td>45528.000000</td>\n",
       "      <td>45528.000000</td>\n",
       "      <td>45528.000000</td>\n",
       "    </tr>\n",
       "    <tr>\n",
       "      <th>mean</th>\n",
       "      <td>38.993411</td>\n",
       "      <td>0.420655</td>\n",
       "      <td>2.006556e+05</td>\n",
       "      <td>67609.289293</td>\n",
       "      <td>2.158081</td>\n",
       "      <td>0.179111</td>\n",
       "      <td>31796.965311</td>\n",
       "      <td>4.354842e+04</td>\n",
       "      <td>52.23502</td>\n",
       "      <td>782.791257</td>\n",
       "      <td>0.060710</td>\n",
       "      <td>0.050540</td>\n",
       "      <td>0.081203</td>\n",
       "    </tr>\n",
       "    <tr>\n",
       "      <th>std</th>\n",
       "      <td>9.543990</td>\n",
       "      <td>0.724097</td>\n",
       "      <td>6.690740e+05</td>\n",
       "      <td>139323.524434</td>\n",
       "      <td>0.911572</td>\n",
       "      <td>0.383450</td>\n",
       "      <td>17269.727234</td>\n",
       "      <td>1.487847e+05</td>\n",
       "      <td>29.37691</td>\n",
       "      <td>100.619746</td>\n",
       "      <td>0.264629</td>\n",
       "      <td>0.219059</td>\n",
       "      <td>0.273149</td>\n",
       "    </tr>\n",
       "    <tr>\n",
       "      <th>min</th>\n",
       "      <td>23.000000</td>\n",
       "      <td>0.000000</td>\n",
       "      <td>2.717061e+04</td>\n",
       "      <td>2.000000</td>\n",
       "      <td>1.000000</td>\n",
       "      <td>0.000000</td>\n",
       "      <td>2237.470000</td>\n",
       "      <td>4.003140e+03</td>\n",
       "      <td>0.00000</td>\n",
       "      <td>500.000000</td>\n",
       "      <td>0.000000</td>\n",
       "      <td>0.000000</td>\n",
       "      <td>0.000000</td>\n",
       "    </tr>\n",
       "    <tr>\n",
       "      <th>25%</th>\n",
       "      <td>31.000000</td>\n",
       "      <td>0.000000</td>\n",
       "      <td>1.263458e+05</td>\n",
       "      <td>936.000000</td>\n",
       "      <td>2.000000</td>\n",
       "      <td>0.000000</td>\n",
       "      <td>19231.140000</td>\n",
       "      <td>2.397381e+04</td>\n",
       "      <td>27.00000</td>\n",
       "      <td>704.000000</td>\n",
       "      <td>0.000000</td>\n",
       "      <td>0.000000</td>\n",
       "      <td>0.000000</td>\n",
       "    </tr>\n",
       "    <tr>\n",
       "      <th>50%</th>\n",
       "      <td>39.000000</td>\n",
       "      <td>0.000000</td>\n",
       "      <td>1.717149e+05</td>\n",
       "      <td>2224.000000</td>\n",
       "      <td>2.000000</td>\n",
       "      <td>0.000000</td>\n",
       "      <td>29081.650000</td>\n",
       "      <td>3.568804e+04</td>\n",
       "      <td>54.00000</td>\n",
       "      <td>786.000000</td>\n",
       "      <td>0.000000</td>\n",
       "      <td>0.000000</td>\n",
       "      <td>0.000000</td>\n",
       "    </tr>\n",
       "    <tr>\n",
       "      <th>75%</th>\n",
       "      <td>47.000000</td>\n",
       "      <td>1.000000</td>\n",
       "      <td>2.406038e+05</td>\n",
       "      <td>5817.000000</td>\n",
       "      <td>3.000000</td>\n",
       "      <td>0.000000</td>\n",
       "      <td>40561.150000</td>\n",
       "      <td>5.343576e+04</td>\n",
       "      <td>78.00000</td>\n",
       "      <td>867.000000</td>\n",
       "      <td>0.000000</td>\n",
       "      <td>0.000000</td>\n",
       "      <td>0.000000</td>\n",
       "    </tr>\n",
       "    <tr>\n",
       "      <th>max</th>\n",
       "      <td>55.000000</td>\n",
       "      <td>9.000000</td>\n",
       "      <td>1.407590e+08</td>\n",
       "      <td>365252.000000</td>\n",
       "      <td>10.000000</td>\n",
       "      <td>1.000000</td>\n",
       "      <td>328112.860000</td>\n",
       "      <td>3.112997e+07</td>\n",
       "      <td>99.00000</td>\n",
       "      <td>949.000000</td>\n",
       "      <td>2.000000</td>\n",
       "      <td>1.000000</td>\n",
       "      <td>1.000000</td>\n",
       "    </tr>\n",
       "  </tbody>\n",
       "</table>\n",
       "</div>"
      ],
      "text/plain": [
       "                age  no_of_children  net_yearly_income  no_of_days_employed  \\\n",
       "count  45528.000000    44754.000000       4.552800e+04         45065.000000   \n",
       "mean      38.993411        0.420655       2.006556e+05         67609.289293   \n",
       "std        9.543990        0.724097       6.690740e+05        139323.524434   \n",
       "min       23.000000        0.000000       2.717061e+04             2.000000   \n",
       "25%       31.000000        0.000000       1.263458e+05           936.000000   \n",
       "50%       39.000000        0.000000       1.717149e+05          2224.000000   \n",
       "75%       47.000000        1.000000       2.406038e+05          5817.000000   \n",
       "max       55.000000        9.000000       1.407590e+08        365252.000000   \n",
       "\n",
       "       total_family_members  migrant_worker  yearly_debt_payments  \\\n",
       "count          45445.000000    45441.000000          45433.000000   \n",
       "mean               2.158081        0.179111          31796.965311   \n",
       "std                0.911572        0.383450          17269.727234   \n",
       "min                1.000000        0.000000           2237.470000   \n",
       "25%                2.000000        0.000000          19231.140000   \n",
       "50%                2.000000        0.000000          29081.650000   \n",
       "75%                3.000000        0.000000          40561.150000   \n",
       "max               10.000000        1.000000         328112.860000   \n",
       "\n",
       "       credit_limit  credit_limit_used(%)  credit_score  prev_defaults  \\\n",
       "count  4.552800e+04           45528.00000  45520.000000   45528.000000   \n",
       "mean   4.354842e+04              52.23502    782.791257       0.060710   \n",
       "std    1.487847e+05              29.37691    100.619746       0.264629   \n",
       "min    4.003140e+03               0.00000    500.000000       0.000000   \n",
       "25%    2.397381e+04              27.00000    704.000000       0.000000   \n",
       "50%    3.568804e+04              54.00000    786.000000       0.000000   \n",
       "75%    5.343576e+04              78.00000    867.000000       0.000000   \n",
       "max    3.112997e+07              99.00000    949.000000       2.000000   \n",
       "\n",
       "       default_in_last_6months  credit_card_default  \n",
       "count             45528.000000         45528.000000  \n",
       "mean                  0.050540             0.081203  \n",
       "std                   0.219059             0.273149  \n",
       "min                   0.000000             0.000000  \n",
       "25%                   0.000000             0.000000  \n",
       "50%                   0.000000             0.000000  \n",
       "75%                   0.000000             0.000000  \n",
       "max                   1.000000             1.000000  "
      ]
     },
     "execution_count": 11,
     "metadata": {},
     "output_type": "execute_result"
    }
   ],
   "source": [
    "train.describe()"
   ]
  },
  {
   "cell_type": "code",
   "execution_count": 12,
   "metadata": {},
   "outputs": [
    {
     "data": {
      "text/plain": [
       "customer_id                45528\n",
       "name                        4010\n",
       "age                           33\n",
       "gender                         3\n",
       "owns_car                       2\n",
       "owns_house                     2\n",
       "no_of_children                10\n",
       "net_yearly_income          45502\n",
       "no_of_days_employed         7874\n",
       "occupation_type               19\n",
       "total_family_members          10\n",
       "migrant_worker                 2\n",
       "yearly_debt_payments       45251\n",
       "credit_limit               45371\n",
       "credit_limit_used(%)         100\n",
       "credit_score                 450\n",
       "prev_defaults                  3\n",
       "default_in_last_6months        2\n",
       "credit_card_default            2\n",
       "dtype: int64"
      ]
     },
     "execution_count": 12,
     "metadata": {},
     "output_type": "execute_result"
    }
   ],
   "source": [
    "train.nunique()"
   ]
  },
  {
   "cell_type": "code",
   "execution_count": 13,
   "metadata": {},
   "outputs": [
    {
     "data": {
      "text/plain": [
       "customer_id                0.000000\n",
       "name                       0.000000\n",
       "age                        0.000000\n",
       "gender                     0.000000\n",
       "owns_car                   1.159624\n",
       "owns_house                 0.000000\n",
       "no_of_children             1.669156\n",
       "net_yearly_income          0.000000\n",
       "no_of_days_employed        0.922428\n",
       "occupation_type            0.000000\n",
       "total_family_members       0.272336\n",
       "migrant_worker             0.228411\n",
       "yearly_debt_payments       0.193271\n",
       "credit_limit               0.000000\n",
       "credit_limit_used(%)       0.000000\n",
       "credit_score               0.026355\n",
       "prev_defaults              0.000000\n",
       "default_in_last_6months    0.000000\n",
       "dtype: float64"
      ]
     },
     "execution_count": 13,
     "metadata": {},
     "output_type": "execute_result"
    }
   ],
   "source": [
    "test.isnull().sum()/test.shape[0]*100"
   ]
  },
  {
   "cell_type": "code",
   "execution_count": 14,
   "metadata": {},
   "outputs": [
    {
     "data": {
      "text/plain": [
       "0    41831\n",
       "1     3697\n",
       "Name: credit_card_default, dtype: int64"
      ]
     },
     "execution_count": 14,
     "metadata": {},
     "output_type": "execute_result"
    }
   ],
   "source": [
    "train['credit_card_default'].value_counts()"
   ]
  },
  {
   "cell_type": "code",
   "execution_count": 15,
   "metadata": {},
   "outputs": [
    {
     "data": {
      "text/plain": [
       "F      29957\n",
       "M      15570\n",
       "XNA        1\n",
       "Name: gender, dtype: int64"
      ]
     },
     "execution_count": 15,
     "metadata": {},
     "output_type": "execute_result"
    }
   ],
   "source": [
    "train['gender'].value_counts()"
   ]
  },
  {
   "cell_type": "code",
   "execution_count": 16,
   "metadata": {},
   "outputs": [
    {
     "data": {
      "text/plain": [
       "F      7443\n",
       "M      3939\n",
       "XNA       1\n",
       "Name: gender, dtype: int64"
      ]
     },
     "execution_count": 16,
     "metadata": {},
     "output_type": "execute_result"
    }
   ],
   "source": [
    "test['gender'].value_counts()"
   ]
  },
  {
   "cell_type": "code",
   "execution_count": 76,
   "metadata": {},
   "outputs": [],
   "source": [
    "def cat_wise_default(cat1,cat2, df):\n",
    "    group = df.groupby([cat1, cat2]).size().unstack(1)\n",
    "    group['pc'] = group[1]/(group[0]+group[1]) *100\n",
    "    group = group.sort_values(by=['pc'], ascending=False)\n",
    "    print(group)"
   ]
  },
  {
   "cell_type": "code",
   "execution_count": 78,
   "metadata": {},
   "outputs": [
    {
     "name": "stdout",
     "output_type": "stream",
     "text": [
      "credit_card_default        0       1         pc\n",
      "gender                                         \n",
      "M                    13966.0  1604.0  10.301863\n",
      "F                    27864.0  2093.0   6.986681\n",
      "XNA                      1.0     NaN        NaN\n",
      "credit_card_default      0     1        pc\n",
      "owns_car                                  \n",
      "N                    27229  2514  8.452409\n",
      "Y                    14101  1137  7.461609\n",
      "credit_card_default      0     1        pc\n",
      "owns_house                                \n",
      "N                    12743  1143  8.231312\n",
      "Y                    29088  2554  8.071550\n",
      "credit_card_default      0     1         pc\n",
      "migrant_worker                             \n",
      "1.0                   7316   823  10.111807\n",
      "0.0                  34434  2868   7.688596\n",
      "credit_card_default        0    1         pc\n",
      "occupation_type                             \n",
      "Low-skill Laborers       283   53  15.773810\n",
      "Drivers                 2426  321  11.685475\n",
      "Cooking staff            799  103  11.419069\n",
      "Laborers                7283  851  10.462257\n",
      "Cleaning staff           596   69  10.375940\n",
      "Waiters/barmen staff     182   21  10.344828\n",
      "Security staff           919  106  10.341463\n",
      "Realty agents             91   10   9.900990\n",
      "Sales staff             4267  458   9.693122\n",
      "HR staff                  71    7   8.974359\n",
      "Medicine staff          1176   99   7.764706\n",
      "Private service staff    358   29   7.493540\n",
      "Managers                2954  214   6.755051\n",
      "Unknown                13381  918   6.420029\n",
      "High skill tech staff   1575  107   6.361474\n",
      "Core staff              3819  243   5.982275\n",
      "Accountants             1396   78   5.291723\n",
      "Secretaries              191    8   4.020101\n",
      "IT staff                  64    2   3.030303\n"
     ]
    }
   ],
   "source": [
    "grp_cols = ['gender', 'owns_car', 'owns_house', 'migrant_worker','occupation_type']\n",
    "\n",
    "for col in grp_cols:\n",
    "    cat_wise_default(col,'credit_card_default',train)"
   ]
  },
  {
   "cell_type": "code",
   "execution_count": 127,
   "metadata": {},
   "outputs": [
    {
     "name": "stdout",
     "output_type": "stream",
     "text": [
      "migrant_worker      0.0     1.0         pc\n",
      "gender                                    \n",
      "M               11647.0  3900.0  25.085225\n",
      "F               25654.0  4239.0  14.180577\n",
      "XNA                 1.0     NaN        NaN\n"
     ]
    }
   ],
   "source": [
    "cat_wise_default('gender','migrant_worker',train)"
   ]
  },
  {
   "cell_type": "code",
   "execution_count": 121,
   "metadata": {},
   "outputs": [
    {
     "name": "stdout",
     "output_type": "stream",
     "text": [
      "0        (44.333, 50.0]\n",
      "1          (28.0, 33.0]\n",
      "2          (33.0, 39.0]\n",
      "3          (33.0, 39.0]\n",
      "4        (44.333, 50.0]\n",
      "              ...      \n",
      "45523      (50.0, 55.0]\n",
      "45524      (28.0, 33.0]\n",
      "45525    (22.999, 28.0]\n",
      "45526      (28.0, 33.0]\n",
      "45527      (33.0, 39.0]\n",
      "Name: age, Length: 45528, dtype: category\n",
      "Categories (6, interval[float64]): [(22.999, 28.0] < (28.0, 33.0] < (33.0, 39.0] < (39.0, 44.333] < (44.333, 50.0] < (50.0, 55.0]]\n",
      "credit_card_default     0    1        pc\n",
      "age_bin                                 \n",
      "4                    6329  569  8.248768\n",
      "1                    7630  685  8.238124\n",
      "6                    6362  570  8.222735\n",
      "3                    7594  674  8.151911\n",
      "5                    7590  654  7.933042\n",
      "2                    6326  545  7.931888\n",
      "0          (27170.609, 108366.228]\n",
      "1         (108366.228, 142343.193]\n",
      "2          (214010.35, 275130.595]\n",
      "3         (108366.228, 142343.193]\n",
      "4        (275130.595, 140759012.7]\n",
      "                   ...            \n",
      "45523      (27170.609, 108366.228]\n",
      "45524    (275130.595, 140759012.7]\n",
      "45525      (214010.35, 275130.595]\n",
      "45526      (142343.193, 171714.91]\n",
      "45527    (275130.595, 140759012.7]\n",
      "Name: net_yearly_income, Length: 45528, dtype: category\n",
      "Categories (6, interval[float64]): [(27170.609, 108366.228] < (108366.228, 142343.193] < (142343.193, 171714.91] < (171714.91, 214010.35] < (214010.35, 275130.595] < (275130.595, 140759012.7]]\n",
      "credit_card_default       0    1        pc\n",
      "net_yearly_income_bin                     \n",
      "2                      6914  674  8.882446\n",
      "4                      6930  658  8.671587\n",
      "3                      6949  639  8.421191\n",
      "1                      6961  627  8.263047\n",
      "5                      6979  609  8.025830\n",
      "6                      7098  490  6.457565\n",
      "0                  (29081.65, 35972.86]\n",
      "1        (2237.4689999999996, 15860.88]\n",
      "2                 (46691.89, 328112.86]\n",
      "3                  (15860.88, 22704.46]\n",
      "4                  (35972.86, 46691.89]\n",
      "                      ...              \n",
      "45523    (2237.4689999999996, 15860.88]\n",
      "45524              (35972.86, 46691.89]\n",
      "45525              (22704.46, 29081.65]\n",
      "45526              (15860.88, 22704.46]\n",
      "45527              (29081.65, 35972.86]\n",
      "Name: yearly_debt_payments, Length: 45528, dtype: category\n",
      "Categories (6, interval[float64]): [(2237.4689999999996, 15860.88] < (15860.88, 22704.46] < (22704.46, 29081.65] < (29081.65, 35972.86] < (35972.86, 46691.89] < (46691.89, 328112.86]]\n",
      "credit_card_default          0    1        pc\n",
      "yearly_debt_payments_bin                     \n",
      "4                         6881  690  9.113723\n",
      "3                         6891  682  9.005678\n",
      "5                         6902  670  8.848389\n",
      "2                         6923  649  8.571051\n",
      "1                         7065  508  6.708042\n",
      "6                         7082  490  6.471210\n",
      "0        (4003.1389999999997, 20069.448]\n",
      "1                 (35688.045, 46319.713]\n",
      "2                 (35688.045, 46319.713]\n",
      "3                  (27660.16, 35688.045]\n",
      "4                 (46319.713, 63741.072]\n",
      "                      ...               \n",
      "45523              (27660.16, 35688.045]\n",
      "45524           (63741.072, 31129970.49]\n",
      "45525           (63741.072, 31129970.49]\n",
      "45526              (20069.448, 27660.16]\n",
      "45527             (35688.045, 46319.713]\n",
      "Name: credit_limit, Length: 45528, dtype: category\n",
      "Categories (6, interval[float64]): [(4003.1389999999997, 20069.448] < (20069.448, 27660.16] < (27660.16, 35688.045] < (35688.045, 46319.713] < (46319.713, 63741.072] < (63741.072, 31129970.49]]\n",
      "credit_card_default     0    1        pc\n",
      "credit_limit_bin                        \n",
      "1                    6941  647  8.526621\n",
      "3                    6949  639  8.421191\n",
      "4                    6952  636  8.381655\n",
      "5                    6959  629  8.289404\n",
      "2                    6979  609  8.025830\n",
      "6                    7051  537  7.076964\n",
      "0        (499.999, 680.0]\n",
      "1          (840.0, 894.0]\n",
      "2        (499.999, 680.0]\n",
      "3          (731.0, 786.0]\n",
      "4          (894.0, 949.0]\n",
      "               ...       \n",
      "45523      (894.0, 949.0]\n",
      "45524    (499.999, 680.0]\n",
      "45525      (680.0, 731.0]\n",
      "45526      (786.0, 840.0]\n",
      "45527      (680.0, 731.0]\n",
      "Name: credit_score, Length: 45528, dtype: category\n",
      "Categories (6, interval[float64]): [(499.999, 680.0] < (680.0, 731.0] < (731.0, 786.0] < (786.0, 840.0] < (840.0, 894.0] < (894.0, 949.0]]\n",
      "credit_card_default     0     1         pc\n",
      "credit_score_bin                          \n",
      "1                    4311  3360  43.801330\n",
      "2                    7177   336   4.472248\n",
      "3                    7613     0   0.000000\n",
      "4                    7624     0   0.000000\n",
      "5                    7558     0   0.000000\n",
      "6                    7541     0   0.000000\n"
     ]
    }
   ],
   "source": [
    "train_copy = train.copy()\n",
    "num_cols = ['age','net_yearly_income','yearly_debt_payments','credit_limit','credit_score']\n",
    "bins_names = [1, 2, 3, 4, 5, 6]\n",
    "\n",
    "# train_copy['age' +'_bin'] = pd.cut(train_copy['age'], 6)\n",
    "for col in num_cols:\n",
    "    print(pd.qcut(train_copy[col], 6))\n",
    "    train_copy[col+'_bin'] = pd.qcut(train_copy[col], 6, labels=bins_names)\n",
    "    cat_wise_default(col+'_bin','credit_card_default',train_copy)"
   ]
  },
  {
   "cell_type": "code",
   "execution_count": 17,
   "metadata": {},
   "outputs": [
    {
     "data": {
      "text/plain": [
       "Unknown                  31.407046\n",
       "Laborers                 17.865929\n",
       "Sales staff              10.378229\n",
       "Core staff                8.921982\n",
       "Managers                  6.958355\n",
       "Drivers                   6.033650\n",
       "High skill tech staff     3.694430\n",
       "Accountants               3.237568\n",
       "Medicine staff            2.800474\n",
       "Security staff            2.251362\n",
       "Cooking staff             1.981198\n",
       "Cleaning staff            1.460640\n",
       "Private service staff     0.850026\n",
       "Low-skill Laborers        0.738007\n",
       "Waiters/barmen staff      0.445879\n",
       "Secretaries               0.437094\n",
       "Realty agents             0.221842\n",
       "HR staff                  0.171323\n",
       "IT staff                  0.144966\n",
       "Name: occupation_type, dtype: float64"
      ]
     },
     "execution_count": 17,
     "metadata": {},
     "output_type": "execute_result"
    }
   ],
   "source": [
    "train['occupation_type'].value_counts()/train.shape[0] *100"
   ]
  },
  {
   "cell_type": "code",
   "execution_count": 640,
   "metadata": {},
   "outputs": [
    {
     "data": {
      "text/plain": [
       "Unknown                  31.151717\n",
       "Laborers                 18.193798\n",
       "Sales staff              10.331196\n",
       "Core staff                8.943161\n",
       "Managers                  7.080734\n",
       "Drivers                   6.175876\n",
       "High skill tech staff     3.557937\n",
       "Accountants               3.206536\n",
       "Medicine staff            2.793640\n",
       "Security staff            2.213828\n",
       "Cooking staff             1.827286\n",
       "Cleaning staff            1.440745\n",
       "Private service staff     0.957568\n",
       "Low-skill Laborers        0.535887\n",
       "Waiters/barmen staff      0.412896\n",
       "Secretaries               0.368971\n",
       "Realty agents             0.289906\n",
       "HR staff                  0.272336\n",
       "IT staff                  0.245981\n",
       "Name: occupation_type, dtype: float64"
      ]
     },
     "execution_count": 640,
     "metadata": {},
     "output_type": "execute_result"
    }
   ],
   "source": [
    "test['occupation_type'].value_counts()/test.shape[0] *100"
   ]
  },
  {
   "cell_type": "code",
   "execution_count": 641,
   "metadata": {},
   "outputs": [
    {
     "data": {
      "text/plain": [
       "CST_12    7015\n",
       "CST_13    6979\n",
       "CST_14    6903\n",
       "CST_10    6869\n",
       "CST_15    6856\n",
       "CST_11    6806\n",
       "CST_16    4100\n",
       "Name: customer_id, dtype: int64"
      ]
     },
     "execution_count": 641,
     "metadata": {},
     "output_type": "execute_result"
    }
   ],
   "source": [
    "train['customer_id'].str[0:6].value_counts()"
   ]
  },
  {
   "cell_type": "code",
   "execution_count": 642,
   "metadata": {},
   "outputs": [
    {
     "data": {
      "text/plain": [
       "CST_14    1773\n",
       "CST_15    1761\n",
       "CST_11    1749\n",
       "CST_13    1737\n",
       "CST_10    1720\n",
       "CST_12    1644\n",
       "CST_16     999\n",
       "Name: customer_id, dtype: int64"
      ]
     },
     "execution_count": 642,
     "metadata": {},
     "output_type": "execute_result"
    }
   ],
   "source": [
    "test['customer_id'].str[0:6].value_counts()"
   ]
  },
  {
   "cell_type": "code",
   "execution_count": 643,
   "metadata": {},
   "outputs": [],
   "source": [
    "# Missing Values Imputation\n",
    "mode_cols = ['owns_car',  'migrant_worker','no_of_children', 'total_family_members']\n",
    "mean_cols = ['no_of_days_employed',  'yearly_debt_payments', 'credit_score']\n",
    "\n",
    "# Mode Impotation\n",
    "for col in mode_cols:\n",
    "    train[col] = train[col].fillna(train[col].mode()[0])\n",
    "    test[col] = test[col].fillna(train[col].mode()[0])\n",
    "\n",
    "# Mean Imputation\n",
    "for col in mean_cols:\n",
    "    train[col] = train[col].fillna(train[col].mean())\n",
    "    test[col] = test[col].fillna(test[col].mean())"
   ]
  },
  {
   "cell_type": "code",
   "execution_count": 644,
   "metadata": {},
   "outputs": [],
   "source": [
    "train['indicator'] = \"train\"\n",
    "test['indicator'] = \"test\""
   ]
  },
  {
   "cell_type": "code",
   "execution_count": 645,
   "metadata": {},
   "outputs": [],
   "source": [
    "# Merge train and test data\n",
    "data = train.iloc[:,train.columns!=\"credit_card_default\"].append(test,sort=False)"
   ]
  },
  {
   "cell_type": "code",
   "execution_count": 646,
   "metadata": {},
   "outputs": [
    {
     "data": {
      "text/plain": [
       "(45528,)"
      ]
     },
     "execution_count": 646,
     "metadata": {},
     "output_type": "execute_result"
    }
   ],
   "source": [
    "target = train['credit_card_default']\n",
    "target.shape"
   ]
  },
  {
   "cell_type": "code",
   "execution_count": 647,
   "metadata": {},
   "outputs": [
    {
     "data": {
      "text/plain": [
       "((45528, 20), (11383, 19), (56911, 19))"
      ]
     },
     "execution_count": 647,
     "metadata": {},
     "output_type": "execute_result"
    }
   ],
   "source": [
    "train.shape, test.shape, data.shape"
   ]
  },
  {
   "cell_type": "markdown",
   "metadata": {},
   "source": [
    "### Data Preprocessing"
   ]
  },
  {
   "cell_type": "code",
   "execution_count": 648,
   "metadata": {},
   "outputs": [
    {
     "data": {
      "text/plain": [
       "Index(['customer_id', 'name', 'age', 'gender', 'owns_car', 'owns_house',\n",
       "       'no_of_children', 'net_yearly_income', 'no_of_days_employed',\n",
       "       'occupation_type', 'total_family_members', 'migrant_worker',\n",
       "       'yearly_debt_payments', 'credit_limit', 'credit_limit_used(%)',\n",
       "       'credit_score', 'prev_defaults', 'default_in_last_6months',\n",
       "       'indicator'],\n",
       "      dtype='object')"
      ]
     },
     "execution_count": 648,
     "metadata": {},
     "output_type": "execute_result"
    }
   ],
   "source": [
    "data.columns"
   ]
  },
  {
   "cell_type": "code",
   "execution_count": 649,
   "metadata": {},
   "outputs": [],
   "source": [
    "# Create Category from Customer_ID\n",
    "data['cust_id_group'] = data['customer_id'].str[0:6]"
   ]
  },
  {
   "cell_type": "code",
   "execution_count": 650,
   "metadata": {},
   "outputs": [],
   "source": [
    "# Drop customer id, name columns\n",
    "df = data.drop(['customer_id','name','occupation_type'],axis=1)"
   ]
  },
  {
   "cell_type": "code",
   "execution_count": 651,
   "metadata": {
    "scrolled": true
   },
   "outputs": [
    {
     "data": {
      "text/plain": [
       "Index(['age', 'gender', 'owns_car', 'owns_house', 'no_of_children',\n",
       "       'net_yearly_income', 'no_of_days_employed', 'total_family_members',\n",
       "       'migrant_worker', 'yearly_debt_payments', 'credit_limit',\n",
       "       'credit_limit_used(%)', 'credit_score', 'prev_defaults',\n",
       "       'default_in_last_6months', 'indicator', 'cust_id_group'],\n",
       "      dtype='object')"
      ]
     },
     "execution_count": 651,
     "metadata": {},
     "output_type": "execute_result"
    }
   ],
   "source": [
    "df.columns"
   ]
  },
  {
   "cell_type": "code",
   "execution_count": 652,
   "metadata": {},
   "outputs": [],
   "source": [
    "# One hot encoding for categorical columns\n",
    "cat_columns = ['gender', 'owns_car', 'owns_house',#'occupation_type',\n",
    "               'migrant_worker','cust_id_group']\n",
    "df = pd.get_dummies(df, columns=cat_columns)"
   ]
  },
  {
   "cell_type": "code",
   "execution_count": 653,
   "metadata": {},
   "outputs": [
    {
     "data": {
      "text/plain": [
       "Index(['age', 'no_of_children', 'net_yearly_income', 'no_of_days_employed',\n",
       "       'total_family_members', 'yearly_debt_payments', 'credit_limit',\n",
       "       'credit_limit_used(%)', 'credit_score', 'prev_defaults',\n",
       "       'default_in_last_6months', 'indicator', 'gender_F', 'gender_M',\n",
       "       'gender_XNA', 'owns_car_N', 'owns_car_Y', 'owns_house_N',\n",
       "       'owns_house_Y', 'migrant_worker_0.0', 'migrant_worker_1.0',\n",
       "       'cust_id_group_CST_10', 'cust_id_group_CST_11', 'cust_id_group_CST_12',\n",
       "       'cust_id_group_CST_13', 'cust_id_group_CST_14', 'cust_id_group_CST_15',\n",
       "       'cust_id_group_CST_16'],\n",
       "      dtype='object')"
      ]
     },
     "execution_count": 653,
     "metadata": {},
     "output_type": "execute_result"
    }
   ],
   "source": [
    "df.columns"
   ]
  },
  {
   "cell_type": "code",
   "execution_count": 654,
   "metadata": {},
   "outputs": [],
   "source": [
    "train=df[df.indicator == \"train\"]\n",
    "test = df[df.indicator == \"test\"]\n",
    "\n",
    "train = train.drop(['indicator'], axis=1)\n",
    "test = test.drop(['indicator'], axis=1)"
   ]
  },
  {
   "cell_type": "code",
   "execution_count": 655,
   "metadata": {},
   "outputs": [
    {
     "data": {
      "text/plain": [
       "((45528, 27), (11383, 27))"
      ]
     },
     "execution_count": 655,
     "metadata": {},
     "output_type": "execute_result"
    }
   ],
   "source": [
    "train.shape, test.shape\n",
    "#train.columns"
   ]
  },
  {
   "cell_type": "markdown",
   "metadata": {},
   "source": [
    "### Model Building"
   ]
  },
  {
   "cell_type": "code",
   "execution_count": 656,
   "metadata": {},
   "outputs": [],
   "source": [
    "## Test Train Split\n",
    "train_df, test_df, target_train, target_val = train_test_split(train, \n",
    "                                                         target, \n",
    "                                                         train_size= 0.80,\n",
    "                                                         random_state=0);\n"
   ]
  },
  {
   "cell_type": "code",
   "execution_count": 657,
   "metadata": {},
   "outputs": [
    {
     "data": {
      "text/plain": [
       "((36422, 27), (9106, 27), (36422,), (9106,))"
      ]
     },
     "execution_count": 657,
     "metadata": {},
     "output_type": "execute_result"
    }
   ],
   "source": [
    "train_df.shape, test_df.shape, target_train.shape, target_val.shape"
   ]
  },
  {
   "cell_type": "code",
   "execution_count": 658,
   "metadata": {},
   "outputs": [
    {
     "name": "stdout",
     "output_type": "stream",
     "text": [
      "Fitting of Logistic Forest finished\n"
     ]
    }
   ],
   "source": [
    "# Logistic Regression\n",
    "lr = LogisticRegression()\n",
    "lr.fit(train_df, target_train)\n",
    "print(\"Fitting of Logistic Forest finished\")"
   ]
  },
  {
   "cell_type": "code",
   "execution_count": 659,
   "metadata": {},
   "outputs": [
    {
     "name": "stdout",
     "output_type": "stream",
     "text": [
      "Predictions finished\n"
     ]
    }
   ],
   "source": [
    "lr_predictions = lr.predict(test_df)\n",
    "print(\"Predictions finished\")"
   ]
  },
  {
   "cell_type": "code",
   "execution_count": 660,
   "metadata": {},
   "outputs": [
    {
     "name": "stdout",
     "output_type": "stream",
     "text": [
      "f1 score: 0.7065779748706577\n",
      "Accuracy: 0.9564023720623764\n",
      "================================================================================\n",
      "              precision    recall  f1-score   support\n",
      "\n",
      "           0       0.97      0.98      0.98      8372\n",
      "           1       0.77      0.65      0.71       734\n",
      "\n",
      "    accuracy                           0.96      9106\n",
      "   macro avg       0.87      0.82      0.84      9106\n",
      "weighted avg       0.95      0.96      0.95      9106\n",
      "\n"
     ]
    }
   ],
   "source": [
    "from sklearn.metrics import (accuracy_score, f1_score, log_loss, classification_report)\n",
    "print(\"f1 score: {}\".format(f1_score(target_val, lr_predictions)))\n",
    "print(\"Accuracy: {}\".format(accuracy_score(target_val, lr_predictions)))\n",
    "print(\"=\"*80)\n",
    "print(classification_report(target_val, lr_predictions))"
   ]
  },
  {
   "cell_type": "code",
   "execution_count": 661,
   "metadata": {},
   "outputs": [],
   "source": [
    "# Random Forest\n",
    "seed = 123   # We set our random seed to zero for reproducibility\n",
    "# Random Forest parameters\n",
    "rf_params = {\n",
    "    'n_jobs': -1,\n",
    "    'n_estimators': 1500,\n",
    "#     'warm_start': True, \n",
    "    'max_features': \"auto\",\n",
    "    'max_depth': 5,\n",
    "    'min_samples_leaf': 50,\n",
    "    'max_features' : 'sqrt',\n",
    "    'random_state' : seed,\n",
    "    'verbose': 0\n",
    "}"
   ]
  },
  {
   "cell_type": "code",
   "execution_count": 662,
   "metadata": {},
   "outputs": [
    {
     "name": "stdout",
     "output_type": "stream",
     "text": [
      "Fitting of Random Forest finished\n"
     ]
    }
   ],
   "source": [
    "rf = RandomForestClassifier(**rf_params)\n",
    "rf.fit(train_df, target_train)\n",
    "print(\"Fitting of Random Forest finished\")"
   ]
  },
  {
   "cell_type": "code",
   "execution_count": 663,
   "metadata": {},
   "outputs": [
    {
     "name": "stdout",
     "output_type": "stream",
     "text": [
      "Predictions finished\n"
     ]
    }
   ],
   "source": [
    "rf_predictions = rf.predict(test_df)\n",
    "print(\"Predictions finished\")"
   ]
  },
  {
   "cell_type": "code",
   "execution_count": 664,
   "metadata": {},
   "outputs": [
    {
     "name": "stdout",
     "output_type": "stream",
     "text": [
      "f1 score: 0.8707692307692307\n",
      "Accuracy: 0.9815506259609049\n",
      "================================================================================\n",
      "              precision    recall  f1-score   support\n",
      "\n",
      "           0       0.98      1.00      0.99      8372\n",
      "           1       1.00      0.77      0.87       734\n",
      "\n",
      "    accuracy                           0.98      9106\n",
      "   macro avg       0.99      0.89      0.93      9106\n",
      "weighted avg       0.98      0.98      0.98      9106\n",
      "\n"
     ]
    }
   ],
   "source": [
    "print(\"f1 score: {}\".format(f1_score(target_val, rf_predictions)))\n",
    "print(\"Accuracy: {}\".format(accuracy_score(target_val, rf_predictions)))\n",
    "print(\"=\"*80)\n",
    "print(classification_report(target_val, rf_predictions))"
   ]
  },
  {
   "cell_type": "code",
   "execution_count": 665,
   "metadata": {},
   "outputs": [],
   "source": [
    "# Gradient Boosting Params\n",
    "gb_params ={\n",
    "    'n_estimators': 1500,\n",
    "    'max_features': 0.9,\n",
    "    'learning_rate' : 0.01,\n",
    "    'max_depth': 4,\n",
    "    'min_samples_leaf': 2,\n",
    "    'subsample': 1,\n",
    "    'max_features' : 'sqrt',\n",
    "    'random_state' : seed,\n",
    "    'verbose': 0\n",
    "}"
   ]
  },
  {
   "cell_type": "code",
   "execution_count": 666,
   "metadata": {},
   "outputs": [
    {
     "name": "stdout",
     "output_type": "stream",
     "text": [
      "Predictions have finished\n"
     ]
    }
   ],
   "source": [
    "gb = GradientBoostingClassifier(**gb_params)\n",
    "gb.fit(train_df, target_train)\n",
    "# Get our predictions\n",
    "gb_predictions = gb.predict(test_df)\n",
    "print(\"Predictions have finished\")"
   ]
  },
  {
   "cell_type": "code",
   "execution_count": 667,
   "metadata": {},
   "outputs": [
    {
     "name": "stdout",
     "output_type": "stream",
     "text": [
      "f1 score: 0.8745247148288973\n",
      "Accuracy: 0.9818800790687459\n",
      "================================================================================\n",
      "              precision    recall  f1-score   support\n",
      "\n",
      "           0       0.98      1.00      0.99      8372\n",
      "           1       0.99      0.78      0.87       734\n",
      "\n",
      "    accuracy                           0.98      9106\n",
      "   macro avg       0.99      0.89      0.93      9106\n",
      "weighted avg       0.98      0.98      0.98      9106\n",
      "\n"
     ]
    }
   ],
   "source": [
    "print(\"f1 score: {}\".format(f1_score(target_val, gb_predictions)))\n",
    "print(\"Accuracy: {}\".format(accuracy_score(target_val, gb_predictions)))\n",
    "print(\"=\"*80)\n",
    "print(classification_report(target_val, gb_predictions))"
   ]
  },
  {
   "cell_type": "code",
   "execution_count": 668,
   "metadata": {},
   "outputs": [],
   "source": [
    "lgb_params = {\n",
    "    'subsample_freq' : '2',\n",
    "    'objective' :'binary',\n",
    "    'importance_type' : 'gain',\n",
    "    'verbosity' : -1,\n",
    "    'max_bin' : 60,\n",
    "    'num_leaves' : 300,\n",
    "    'boosting_type' : 'dart',\n",
    "    'learning_rate': 0.05,\n",
    "    'n_estimators' : 1500,\n",
    "    'max_depth' : 5,\n",
    "    'scale_pos_weight' :2.5\n",
    " }"
   ]
  },
  {
   "cell_type": "code",
   "execution_count": 669,
   "metadata": {},
   "outputs": [
    {
     "name": "stdout",
     "output_type": "stream",
     "text": [
      "Predictions have finished\n"
     ]
    }
   ],
   "source": [
    "import lightgbm as lgb\n",
    "seed=123\n",
    "lgb = lgb.LGBMClassifier(**lgb_params)\n",
    "lgb.fit(train_df, target_train)\n",
    "# Get our predictions\n",
    "lgb_predictions = lgb.predict(test_df)\n",
    "print(\"Predictions have finished\")"
   ]
  },
  {
   "cell_type": "code",
   "execution_count": 670,
   "metadata": {},
   "outputs": [
    {
     "name": "stdout",
     "output_type": "stream",
     "text": [
      "f1 score: 0.8465116279069766\n",
      "Accuracy: 0.9746321106962442\n",
      "================================================================================\n",
      "              precision    recall  f1-score   support\n",
      "\n",
      "           0       0.99      0.98      0.99      8372\n",
      "           1       0.83      0.87      0.85       734\n",
      "\n",
      "    accuracy                           0.97      9106\n",
      "   macro avg       0.91      0.93      0.92      9106\n",
      "weighted avg       0.98      0.97      0.97      9106\n",
      "\n"
     ]
    }
   ],
   "source": [
    "print(\"f1 score: {}\".format(f1_score(target_val, lgb_predictions)))\n",
    "print(\"Accuracy: {}\".format(accuracy_score(target_val, lgb_predictions)))\n",
    "print(\"=\"*80)\n",
    "print(classification_report(target_val, lgb_predictions))"
   ]
  },
  {
   "cell_type": "code",
   "execution_count": 671,
   "metadata": {},
   "outputs": [
    {
     "name": "stdout",
     "output_type": "stream",
     "text": [
      "0:\ttotal: 6.98ms\tremaining: 48.9s\n",
      "500:\ttotal: 3.36s\tremaining: 43.6s\n",
      "1000:\ttotal: 6.71s\tremaining: 40.2s\n",
      "1500:\ttotal: 10s\tremaining: 36.8s\n",
      "2000:\ttotal: 13.4s\tremaining: 33.5s\n",
      "2500:\ttotal: 16.7s\tremaining: 30.1s\n",
      "3000:\ttotal: 20.1s\tremaining: 26.8s\n",
      "3500:\ttotal: 23.4s\tremaining: 23.4s\n",
      "4000:\ttotal: 26.7s\tremaining: 20s\n",
      "4500:\ttotal: 30s\tremaining: 16.7s\n",
      "5000:\ttotal: 33.5s\tremaining: 13.4s\n",
      "5500:\ttotal: 36.8s\tremaining: 10s\n",
      "6000:\ttotal: 40.2s\tremaining: 6.68s\n",
      "6500:\ttotal: 43.6s\tremaining: 3.35s\n",
      "6999:\ttotal: 46.9s\tremaining: 0us\n",
      "Predictions have finished\n"
     ]
    }
   ],
   "source": [
    "## Cat Boosting\n",
    "seed = 123\n",
    "cb = CatBoostClassifier(\n",
    "    iterations=7000,\n",
    "    learning_rate = 0.01,\n",
    "    verbose=500,\n",
    "    eval_metric = 'AUC'\n",
    ")\n",
    "cb.fit(train_df, target_train)\n",
    "# Get our predictions\n",
    "cb_predictions = cb.predict(test_df)\n",
    "print(\"Predictions have finished\")"
   ]
  },
  {
   "cell_type": "code",
   "execution_count": 672,
   "metadata": {},
   "outputs": [
    {
     "name": "stdout",
     "output_type": "stream",
     "text": [
      "f1 score: 0.8567251461988304\n",
      "Accuracy: 0.9784757302877224\n",
      "================================================================================\n",
      "              precision    recall  f1-score   support\n",
      "\n",
      "           0       0.98      0.99      0.99      8372\n",
      "           1       0.92      0.80      0.86       734\n",
      "\n",
      "    accuracy                           0.98      9106\n",
      "   macro avg       0.95      0.90      0.92      9106\n",
      "weighted avg       0.98      0.98      0.98      9106\n",
      "\n"
     ]
    }
   ],
   "source": [
    "print(\"f1 score: {}\".format(f1_score(target_val, cb_predictions)))\n",
    "print(\"Accuracy: {}\".format(accuracy_score(target_val, cb_predictions)))\n",
    "print(\"=\"*80)\n",
    "print(classification_report(target_val, cb_predictions))"
   ]
  },
  {
   "cell_type": "code",
   "execution_count": 673,
   "metadata": {},
   "outputs": [],
   "source": [
    "xgb_params ={\n",
    "    'n_estimators': 1500,\n",
    "    'learning_rate' : 0.01,\n",
    "    'max_depth': 4,\n",
    "    'subsample': 1,\n",
    "    'max_features' : 'sqrt',\n",
    "    'verbosity': 0,\n",
    "    'base_score':0.2,\n",
    "    'updater' : \"grow_histmaker\",\n",
    "}"
   ]
  },
  {
   "cell_type": "code",
   "execution_count": 674,
   "metadata": {},
   "outputs": [
    {
     "name": "stderr",
     "output_type": "stream",
     "text": [
      "C:\\Users\\cetar\\anaconda3\\lib\\site-packages\\xgboost\\sklearn.py:1224: UserWarning: The use of label encoder in XGBClassifier is deprecated and will be removed in a future release. To remove this warning, do the following: 1) Pass option use_label_encoder=False when constructing XGBClassifier object; and 2) Encode your labels (y) as integers starting with 0, i.e. 0, 1, 2, ..., [num_class - 1].\n",
      "  warnings.warn(label_encoder_deprecation_msg, UserWarning)\n"
     ]
    },
    {
     "name": "stdout",
     "output_type": "stream",
     "text": [
      "Predictions have finished\n"
     ]
    }
   ],
   "source": [
    "## Xg Boosting\n",
    "seed = 123\n",
    "xgb = XGBClassifier(**xgb_params)\n",
    "xgb.fit(train_df, target_train)\n",
    "# Get our predictions\n",
    "xgb_predictions = xgb.predict(test_df)\n",
    "print(\"Predictions have finished\")"
   ]
  },
  {
   "cell_type": "code",
   "execution_count": 675,
   "metadata": {},
   "outputs": [
    {
     "name": "stdout",
     "output_type": "stream",
     "text": [
      "f1 score: 0.8742424242424243\n",
      "Accuracy: 0.9817702613661322\n",
      "================================================================================\n",
      "              precision    recall  f1-score   support\n",
      "\n",
      "           0       0.98      1.00      0.99      8372\n",
      "           1       0.98      0.79      0.87       734\n",
      "\n",
      "    accuracy                           0.98      9106\n",
      "   macro avg       0.98      0.89      0.93      9106\n",
      "weighted avg       0.98      0.98      0.98      9106\n",
      "\n"
     ]
    }
   ],
   "source": [
    "print(\"f1 score: {}\".format(f1_score(target_val, xgb_predictions)))\n",
    "print(\"Accuracy: {}\".format(accuracy_score(target_val, xgb_predictions)))\n",
    "print(\"=\"*80)\n",
    "print(classification_report(target_val, xgb_predictions))"
   ]
  },
  {
   "cell_type": "code",
   "execution_count": 676,
   "metadata": {},
   "outputs": [],
   "source": [
    "from sklearn.model_selection import cross_val_score\n",
    "#rf_scores = cross_val_score(rf, train_df, target_train, cv=10, scoring = \"f1_macro\")\n",
    "#print(\"Mean rf:\", rf_scores.mean(),'\\n')\n",
    "#lgb_scores = cross_val_score(lgb, train_df, target_train, cv=10, scoring = \"f1_macro\")\n",
    "#print(\"Mean xgb:\", lgb_scores.mean(),'\\n')\n",
    "# cb_scores = cross_val_score(cb, train_df, target_train, cv=10, scoring = \"f1_macro\")\n",
    "# print(\"Mean cb:\", cb_scores.mean(),'\\n')\n",
    "# xgb_scores = cross_val_score(xgb, train_df, target_train, cv=10, scoring = \"f1_macro\")\n",
    "# print(\"Mean xgb:\", xgb_scores.mean(),'\\n')\n",
    "# lr_scores = cross_val_score(lr, train_df, target_train, cv=10, scoring = \"f1_macro\")\n",
    "# #print(\"Scores:\", scores)\n",
    "# print(\"Mean lr:\", lr_scores.mean(),'\\n')"
   ]
  },
  {
   "cell_type": "code",
   "execution_count": 677,
   "metadata": {
    "scrolled": true
   },
   "outputs": [
    {
     "data": {
      "text/html": [
       "<div>\n",
       "<style scoped>\n",
       "    .dataframe tbody tr th:only-of-type {\n",
       "        vertical-align: middle;\n",
       "    }\n",
       "\n",
       "    .dataframe tbody tr th {\n",
       "        vertical-align: top;\n",
       "    }\n",
       "\n",
       "    .dataframe thead th {\n",
       "        text-align: right;\n",
       "    }\n",
       "</style>\n",
       "<table border=\"1\" class=\"dataframe\">\n",
       "  <thead>\n",
       "    <tr style=\"text-align: right;\">\n",
       "      <th></th>\n",
       "      <th>Importance</th>\n",
       "    </tr>\n",
       "    <tr>\n",
       "      <th>Feature</th>\n",
       "      <th></th>\n",
       "    </tr>\n",
       "  </thead>\n",
       "  <tbody>\n",
       "    <tr>\n",
       "      <th>credit_score</th>\n",
       "      <td>0.690088</td>\n",
       "    </tr>\n",
       "    <tr>\n",
       "      <th>credit_limit_used(%)</th>\n",
       "      <td>0.119612</td>\n",
       "    </tr>\n",
       "    <tr>\n",
       "      <th>prev_defaults</th>\n",
       "      <td>0.041762</td>\n",
       "    </tr>\n",
       "    <tr>\n",
       "      <th>gender_F</th>\n",
       "      <td>0.011720</td>\n",
       "    </tr>\n",
       "    <tr>\n",
       "      <th>no_of_days_employed</th>\n",
       "      <td>0.010876</td>\n",
       "    </tr>\n",
       "    <tr>\n",
       "      <th>cust_id_group_CST_15</th>\n",
       "      <td>0.009750</td>\n",
       "    </tr>\n",
       "    <tr>\n",
       "      <th>cust_id_group_CST_13</th>\n",
       "      <td>0.009265</td>\n",
       "    </tr>\n",
       "    <tr>\n",
       "      <th>cust_id_group_CST_16</th>\n",
       "      <td>0.009014</td>\n",
       "    </tr>\n",
       "    <tr>\n",
       "      <th>owns_house_N</th>\n",
       "      <td>0.008357</td>\n",
       "    </tr>\n",
       "    <tr>\n",
       "      <th>cust_id_group_CST_12</th>\n",
       "      <td>0.007433</td>\n",
       "    </tr>\n",
       "    <tr>\n",
       "      <th>cust_id_group_CST_14</th>\n",
       "      <td>0.007402</td>\n",
       "    </tr>\n",
       "    <tr>\n",
       "      <th>total_family_members</th>\n",
       "      <td>0.007129</td>\n",
       "    </tr>\n",
       "    <tr>\n",
       "      <th>yearly_debt_payments</th>\n",
       "      <td>0.006958</td>\n",
       "    </tr>\n",
       "    <tr>\n",
       "      <th>credit_limit</th>\n",
       "      <td>0.006919</td>\n",
       "    </tr>\n",
       "    <tr>\n",
       "      <th>net_yearly_income</th>\n",
       "      <td>0.006795</td>\n",
       "    </tr>\n",
       "    <tr>\n",
       "      <th>default_in_last_6months</th>\n",
       "      <td>0.006636</td>\n",
       "    </tr>\n",
       "    <tr>\n",
       "      <th>gender_M</th>\n",
       "      <td>0.006624</td>\n",
       "    </tr>\n",
       "    <tr>\n",
       "      <th>age</th>\n",
       "      <td>0.006589</td>\n",
       "    </tr>\n",
       "    <tr>\n",
       "      <th>cust_id_group_CST_11</th>\n",
       "      <td>0.006107</td>\n",
       "    </tr>\n",
       "    <tr>\n",
       "      <th>cust_id_group_CST_10</th>\n",
       "      <td>0.006051</td>\n",
       "    </tr>\n",
       "    <tr>\n",
       "      <th>migrant_worker_0.0</th>\n",
       "      <td>0.005994</td>\n",
       "    </tr>\n",
       "    <tr>\n",
       "      <th>owns_car_N</th>\n",
       "      <td>0.004500</td>\n",
       "    </tr>\n",
       "    <tr>\n",
       "      <th>no_of_children</th>\n",
       "      <td>0.004420</td>\n",
       "    </tr>\n",
       "    <tr>\n",
       "      <th>migrant_worker_1.0</th>\n",
       "      <td>0.000000</td>\n",
       "    </tr>\n",
       "    <tr>\n",
       "      <th>owns_house_Y</th>\n",
       "      <td>0.000000</td>\n",
       "    </tr>\n",
       "    <tr>\n",
       "      <th>owns_car_Y</th>\n",
       "      <td>0.000000</td>\n",
       "    </tr>\n",
       "    <tr>\n",
       "      <th>gender_XNA</th>\n",
       "      <td>0.000000</td>\n",
       "    </tr>\n",
       "  </tbody>\n",
       "</table>\n",
       "</div>"
      ],
      "text/plain": [
       "                         Importance\n",
       "Feature                            \n",
       "credit_score               0.690088\n",
       "credit_limit_used(%)       0.119612\n",
       "prev_defaults              0.041762\n",
       "gender_F                   0.011720\n",
       "no_of_days_employed        0.010876\n",
       "cust_id_group_CST_15       0.009750\n",
       "cust_id_group_CST_13       0.009265\n",
       "cust_id_group_CST_16       0.009014\n",
       "owns_house_N               0.008357\n",
       "cust_id_group_CST_12       0.007433\n",
       "cust_id_group_CST_14       0.007402\n",
       "total_family_members       0.007129\n",
       "yearly_debt_payments       0.006958\n",
       "credit_limit               0.006919\n",
       "net_yearly_income          0.006795\n",
       "default_in_last_6months    0.006636\n",
       "gender_M                   0.006624\n",
       "age                        0.006589\n",
       "cust_id_group_CST_11       0.006107\n",
       "cust_id_group_CST_10       0.006051\n",
       "migrant_worker_0.0         0.005994\n",
       "owns_car_N                 0.004500\n",
       "no_of_children             0.004420\n",
       "migrant_worker_1.0         0.000000\n",
       "owns_house_Y               0.000000\n",
       "owns_car_Y                 0.000000\n",
       "gender_XNA                 0.000000"
      ]
     },
     "execution_count": 677,
     "metadata": {},
     "output_type": "execute_result"
    }
   ],
   "source": [
    "\n",
    "importances = pd.DataFrame({\n",
    "    'Feature': train.columns,\n",
    "    'Importance': xgb.feature_importances_\n",
    "})\n",
    "importances = importances.sort_values(by='Importance', ascending=False)\n",
    "importances = importances.set_index('Feature')\n",
    "importances"
   ]
  },
  {
   "cell_type": "code",
   "execution_count": 684,
   "metadata": {},
   "outputs": [
    {
     "name": "stderr",
     "output_type": "stream",
     "text": [
      "C:\\Users\\cetar\\anaconda3\\lib\\site-packages\\sklearn\\base.py:488: FutureWarning: The feature names should match those that were passed during fit. Starting version 1.2, an error will be raised.\n",
      "Feature names unseen at fit time:\n",
      "- credit_card_default\n",
      "Feature names must be in the same order as they were in fit.\n",
      "\n",
      "  warnings.warn(message, FutureWarning)\n"
     ]
    },
    {
     "ename": "ValueError",
     "evalue": "X has 28 features, but GradientBoostingClassifier is expecting 27 features as input.",
     "output_type": "error",
     "traceback": [
      "\u001b[1;31m---------------------------------------------------------------------------\u001b[0m",
      "\u001b[1;31mValueError\u001b[0m                                Traceback (most recent call last)",
      "\u001b[1;32m<ipython-input-684-d0f3e26e0484>\u001b[0m in \u001b[0;36m<module>\u001b[1;34m\u001b[0m\n\u001b[1;32m----> 1\u001b[1;33m \u001b[0mtest\u001b[0m\u001b[1;33m[\u001b[0m\u001b[1;34m'credit_card_default'\u001b[0m\u001b[1;33m]\u001b[0m \u001b[1;33m=\u001b[0m \u001b[0mgb\u001b[0m\u001b[1;33m.\u001b[0m\u001b[0mpredict\u001b[0m\u001b[1;33m(\u001b[0m\u001b[0mtest\u001b[0m\u001b[1;33m)\u001b[0m\u001b[1;33m\u001b[0m\u001b[1;33m\u001b[0m\u001b[0m\n\u001b[0m",
      "\u001b[1;32m~\\anaconda3\\lib\\site-packages\\sklearn\\ensemble\\_gb.py\u001b[0m in \u001b[0;36mpredict\u001b[1;34m(self, X)\u001b[0m\n\u001b[0;32m   1353\u001b[0m             \u001b[0mThe\u001b[0m \u001b[0mpredicted\u001b[0m \u001b[0mvalues\u001b[0m\u001b[1;33m.\u001b[0m\u001b[1;33m\u001b[0m\u001b[1;33m\u001b[0m\u001b[0m\n\u001b[0;32m   1354\u001b[0m         \"\"\"\n\u001b[1;32m-> 1355\u001b[1;33m         \u001b[0mraw_predictions\u001b[0m \u001b[1;33m=\u001b[0m \u001b[0mself\u001b[0m\u001b[1;33m.\u001b[0m\u001b[0mdecision_function\u001b[0m\u001b[1;33m(\u001b[0m\u001b[0mX\u001b[0m\u001b[1;33m)\u001b[0m\u001b[1;33m\u001b[0m\u001b[1;33m\u001b[0m\u001b[0m\n\u001b[0m\u001b[0;32m   1356\u001b[0m         \u001b[0mencoded_labels\u001b[0m \u001b[1;33m=\u001b[0m \u001b[0mself\u001b[0m\u001b[1;33m.\u001b[0m\u001b[0mloss_\u001b[0m\u001b[1;33m.\u001b[0m\u001b[0m_raw_prediction_to_decision\u001b[0m\u001b[1;33m(\u001b[0m\u001b[0mraw_predictions\u001b[0m\u001b[1;33m)\u001b[0m\u001b[1;33m\u001b[0m\u001b[1;33m\u001b[0m\u001b[0m\n\u001b[0;32m   1357\u001b[0m         \u001b[1;32mreturn\u001b[0m \u001b[0mself\u001b[0m\u001b[1;33m.\u001b[0m\u001b[0mclasses_\u001b[0m\u001b[1;33m.\u001b[0m\u001b[0mtake\u001b[0m\u001b[1;33m(\u001b[0m\u001b[0mencoded_labels\u001b[0m\u001b[1;33m,\u001b[0m \u001b[0maxis\u001b[0m\u001b[1;33m=\u001b[0m\u001b[1;36m0\u001b[0m\u001b[1;33m)\u001b[0m\u001b[1;33m\u001b[0m\u001b[1;33m\u001b[0m\u001b[0m\n",
      "\u001b[1;32m~\\anaconda3\\lib\\site-packages\\sklearn\\ensemble\\_gb.py\u001b[0m in \u001b[0;36mdecision_function\u001b[1;34m(self, X)\u001b[0m\n\u001b[0;32m   1306\u001b[0m             \u001b[0marray\u001b[0m \u001b[0mof\u001b[0m \u001b[0mshape\u001b[0m \u001b[1;33m(\u001b[0m\u001b[0mn_samples\u001b[0m\u001b[1;33m,\u001b[0m\u001b[1;33m)\u001b[0m\u001b[1;33m.\u001b[0m\u001b[1;33m\u001b[0m\u001b[1;33m\u001b[0m\u001b[0m\n\u001b[0;32m   1307\u001b[0m         \"\"\"\n\u001b[1;32m-> 1308\u001b[1;33m         X = self._validate_data(\n\u001b[0m\u001b[0;32m   1309\u001b[0m             \u001b[0mX\u001b[0m\u001b[1;33m,\u001b[0m \u001b[0mdtype\u001b[0m\u001b[1;33m=\u001b[0m\u001b[0mDTYPE\u001b[0m\u001b[1;33m,\u001b[0m \u001b[0morder\u001b[0m\u001b[1;33m=\u001b[0m\u001b[1;34m\"C\"\u001b[0m\u001b[1;33m,\u001b[0m \u001b[0maccept_sparse\u001b[0m\u001b[1;33m=\u001b[0m\u001b[1;34m\"csr\"\u001b[0m\u001b[1;33m,\u001b[0m \u001b[0mreset\u001b[0m\u001b[1;33m=\u001b[0m\u001b[1;32mFalse\u001b[0m\u001b[1;33m\u001b[0m\u001b[1;33m\u001b[0m\u001b[0m\n\u001b[0;32m   1310\u001b[0m         )\n",
      "\u001b[1;32m~\\anaconda3\\lib\\site-packages\\sklearn\\base.py\u001b[0m in \u001b[0;36m_validate_data\u001b[1;34m(self, X, y, reset, validate_separately, **check_params)\u001b[0m\n\u001b[0;32m    578\u001b[0m \u001b[1;33m\u001b[0m\u001b[0m\n\u001b[0;32m    579\u001b[0m         \u001b[1;32mif\u001b[0m \u001b[1;32mnot\u001b[0m \u001b[0mno_val_X\u001b[0m \u001b[1;32mand\u001b[0m \u001b[0mcheck_params\u001b[0m\u001b[1;33m.\u001b[0m\u001b[0mget\u001b[0m\u001b[1;33m(\u001b[0m\u001b[1;34m\"ensure_2d\"\u001b[0m\u001b[1;33m,\u001b[0m \u001b[1;32mTrue\u001b[0m\u001b[1;33m)\u001b[0m\u001b[1;33m:\u001b[0m\u001b[1;33m\u001b[0m\u001b[1;33m\u001b[0m\u001b[0m\n\u001b[1;32m--> 580\u001b[1;33m             \u001b[0mself\u001b[0m\u001b[1;33m.\u001b[0m\u001b[0m_check_n_features\u001b[0m\u001b[1;33m(\u001b[0m\u001b[0mX\u001b[0m\u001b[1;33m,\u001b[0m \u001b[0mreset\u001b[0m\u001b[1;33m=\u001b[0m\u001b[0mreset\u001b[0m\u001b[1;33m)\u001b[0m\u001b[1;33m\u001b[0m\u001b[1;33m\u001b[0m\u001b[0m\n\u001b[0m\u001b[0;32m    581\u001b[0m \u001b[1;33m\u001b[0m\u001b[0m\n\u001b[0;32m    582\u001b[0m         \u001b[1;32mreturn\u001b[0m \u001b[0mout\u001b[0m\u001b[1;33m\u001b[0m\u001b[1;33m\u001b[0m\u001b[0m\n",
      "\u001b[1;32m~\\anaconda3\\lib\\site-packages\\sklearn\\base.py\u001b[0m in \u001b[0;36m_check_n_features\u001b[1;34m(self, X, reset)\u001b[0m\n\u001b[0;32m    393\u001b[0m \u001b[1;33m\u001b[0m\u001b[0m\n\u001b[0;32m    394\u001b[0m         \u001b[1;32mif\u001b[0m \u001b[0mn_features\u001b[0m \u001b[1;33m!=\u001b[0m \u001b[0mself\u001b[0m\u001b[1;33m.\u001b[0m\u001b[0mn_features_in_\u001b[0m\u001b[1;33m:\u001b[0m\u001b[1;33m\u001b[0m\u001b[1;33m\u001b[0m\u001b[0m\n\u001b[1;32m--> 395\u001b[1;33m             raise ValueError(\n\u001b[0m\u001b[0;32m    396\u001b[0m                 \u001b[1;34mf\"X has {n_features} features, but {self.__class__.__name__} \"\u001b[0m\u001b[1;33m\u001b[0m\u001b[1;33m\u001b[0m\u001b[0m\n\u001b[0;32m    397\u001b[0m                 \u001b[1;34mf\"is expecting {self.n_features_in_} features as input.\"\u001b[0m\u001b[1;33m\u001b[0m\u001b[1;33m\u001b[0m\u001b[0m\n",
      "\u001b[1;31mValueError\u001b[0m: X has 28 features, but GradientBoostingClassifier is expecting 27 features as input."
     ]
    }
   ],
   "source": [
    "test['credit_card_default'] = gb.predict(test)"
   ]
  },
  {
   "cell_type": "code",
   "execution_count": 679,
   "metadata": {},
   "outputs": [
    {
     "data": {
      "text/plain": [
       "0    10700\n",
       "1      683\n",
       "Name: credit_card_default, dtype: int64"
      ]
     },
     "execution_count": 679,
     "metadata": {},
     "output_type": "execute_result"
    }
   ],
   "source": [
    "test['credit_card_default'].value_counts()"
   ]
  },
  {
   "cell_type": "code",
   "execution_count": 680,
   "metadata": {},
   "outputs": [],
   "source": [
    "submission_df = pd.read_csv(\"dataset/test.csv\")\n",
    "submission_df['credit_card_default'] = test['credit_card_default']"
   ]
  },
  {
   "cell_type": "code",
   "execution_count": 681,
   "metadata": {},
   "outputs": [],
   "source": [
    "submission_df = submission_df[['customer_id', 'credit_card_default']]"
   ]
  },
  {
   "cell_type": "code",
   "execution_count": 685,
   "metadata": {},
   "outputs": [],
   "source": [
    "submission_df.to_csv('submission_gb_occupation_rem.csv',index=False)"
   ]
  },
  {
   "cell_type": "code",
   "execution_count": 683,
   "metadata": {},
   "outputs": [],
   "source": [
    "# sumission_df.to_csv('submission_rf_baseline.csv',index=False)"
   ]
  }
 ],
 "metadata": {
  "kernelspec": {
   "display_name": "Python 3",
   "language": "python",
   "name": "python3"
  },
  "language_info": {
   "codemirror_mode": {
    "name": "ipython",
    "version": 3
   },
   "file_extension": ".py",
   "mimetype": "text/x-python",
   "name": "python",
   "nbconvert_exporter": "python",
   "pygments_lexer": "ipython3",
   "version": "3.8.5"
  }
 },
 "nbformat": 4,
 "nbformat_minor": 4
}
